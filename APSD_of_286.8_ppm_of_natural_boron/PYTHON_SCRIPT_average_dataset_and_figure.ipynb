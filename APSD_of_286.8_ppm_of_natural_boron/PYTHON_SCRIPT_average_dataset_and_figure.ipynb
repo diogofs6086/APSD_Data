{
 "cells": [
  {
   "cell_type": "code",
   "execution_count": 1,
   "metadata": {},
   "outputs": [],
   "source": [
    "# Needed packages\n",
    "import pandas as pd\n",
    "import numpy as np"
   ]
  },
  {
   "cell_type": "code",
   "execution_count": 2,
   "metadata": {},
   "outputs": [],
   "source": [
    "# Grouping the files\n",
    "file_numbers = np.arange(1,13)\n",
    "\n",
    "for i in file_numbers:\n",
    "    file_name = 'Raw_data/spectra' + str(i)\n",
    "    col = pd.read_csv(file_name, header = None, sep = '\\t')\n",
    "    if (i == 1):\n",
    "        APSDs_data = col.iloc[:, :2]\n",
    "    else:\n",
    "        col = col.iloc[:, 1]\n",
    "        APSDs_data[i] = col"
   ]
  },
  {
   "cell_type": "code",
   "execution_count": 3,
   "metadata": {},
   "outputs": [],
   "source": [
    "# Frequency column\n",
    "Dwell_Time = 5E-6 # seconds\n",
    "number_of_channels = 62500\n",
    "average_APSD = pd.DataFrame({'Frequency': APSDs_data[0]/ \\\n",
    "                             (Dwell_Time * number_of_channels)})"
   ]
  },
  {
   "cell_type": "code",
   "execution_count": 4,
   "metadata": {},
   "outputs": [],
   "source": [
    "# Mean APSD column\n",
    "average_APSD['APSD'] = APSDs_data.iloc[:, 1:].mean(axis = 1)\n",
    "average_APSD['APSD'] = [np.format_float_scientific(i, 5) for i in average_APSD['APSD']]"
   ]
  },
  {
   "cell_type": "code",
   "execution_count": 5,
   "metadata": {},
   "outputs": [],
   "source": [
    "# APSD uncertainty column\n",
    "number_of_averages = 3000\n",
    "average_APSD['sd'] = (APSDs_data.iloc[:,1:]**2).sum(axis = 1)**0.5/ \\\n",
    "                     ((APSDs_data.columns.size - 1)*np.sqrt(number_of_averages))\n",
    "average_APSD['sd'] = [np.format_float_scientific(i, 5) for i in average_APSD['sd']]"
   ]
  },
  {
   "cell_type": "code",
   "execution_count": 6,
   "metadata": {},
   "outputs": [
    {
     "data": {
      "text/html": [
       "<div>\n",
       "<style scoped>\n",
       "    .dataframe tbody tr th:only-of-type {\n",
       "        vertical-align: middle;\n",
       "    }\n",
       "\n",
       "    .dataframe tbody tr th {\n",
       "        vertical-align: top;\n",
       "    }\n",
       "\n",
       "    .dataframe thead th {\n",
       "        text-align: right;\n",
       "    }\n",
       "</style>\n",
       "<table border=\"1\" class=\"dataframe\">\n",
       "  <thead>\n",
       "    <tr style=\"text-align: right;\">\n",
       "      <th></th>\n",
       "      <th>Frequency</th>\n",
       "      <th>APSD</th>\n",
       "      <th>sd</th>\n",
       "    </tr>\n",
       "  </thead>\n",
       "  <tbody>\n",
       "    <tr>\n",
       "      <th>2</th>\n",
       "      <td>9.6</td>\n",
       "      <td>2.15356e-07</td>\n",
       "      <td>1.13521e-09</td>\n",
       "    </tr>\n",
       "    <tr>\n",
       "      <th>3</th>\n",
       "      <td>12.8</td>\n",
       "      <td>2.13221e-07</td>\n",
       "      <td>1.12396e-09</td>\n",
       "    </tr>\n",
       "    <tr>\n",
       "      <th>4</th>\n",
       "      <td>16.0</td>\n",
       "      <td>2.13335e-07</td>\n",
       "      <td>1.12467e-09</td>\n",
       "    </tr>\n",
       "    <tr>\n",
       "      <th>5</th>\n",
       "      <td>19.2</td>\n",
       "      <td>2.14046e-07</td>\n",
       "      <td>1.12825e-09</td>\n",
       "    </tr>\n",
       "    <tr>\n",
       "      <th>6</th>\n",
       "      <td>22.4</td>\n",
       "      <td>2.15162e-07</td>\n",
       "      <td>1.13422e-09</td>\n",
       "    </tr>\n",
       "  </tbody>\n",
       "</table>\n",
       "</div>"
      ],
      "text/plain": [
       "   Frequency         APSD           sd\n",
       "2        9.6  2.15356e-07  1.13521e-09\n",
       "3       12.8  2.13221e-07  1.12396e-09\n",
       "4       16.0  2.13335e-07  1.12467e-09\n",
       "5       19.2  2.14046e-07  1.12825e-09\n",
       "6       22.4  2.15162e-07  1.13422e-09"
      ]
     },
     "execution_count": 6,
     "metadata": {},
     "output_type": "execute_result"
    }
   ],
   "source": [
    "# Final dataset\n",
    "# The first two columns have to be eliminated\n",
    "average_APSD = average_APSD[2:]\n",
    "average_APSD.head()"
   ]
  },
  {
   "cell_type": "code",
   "execution_count": 7,
   "metadata": {},
   "outputs": [],
   "source": [
    "# Salving the final dataset\n",
    "# average_APSD.to_csv('PYTHON_average_APSD_286ppm_nat_boron.csv', index = False) "
   ]
  },
  {
   "cell_type": "code",
   "execution_count": 9,
   "metadata": {},
   "outputs": [
    {
     "data": {
      "image/png": "[encoded data removed]",
      "text/plain": [
       "<Figure size 612x396 with 1 Axes>"
      ]
     },
     "metadata": {
      "needs_background": "light"
     },
     "output_type": "display_data"
    }
   ],
   "source": [
    "import matplotlib.pyplot as plt\n",
    "%matplotlib inline\n",
    "\n",
    "x = np.array(average_APSD.iloc[:,0], dtype = float)\n",
    "y = np.array(average_APSD.iloc[:,1], dtype = float)\n",
    "err = np.array(average_APSD.iloc[:,2], dtype = float)\n",
    "\n",
    "# Figure\n",
    "plt.figure(figsize = (8.5,5.5))\n",
    "plt.errorbar(x, y, yerr = err, fmt='.k', lw = 0.5, capsize = 3)\n",
    "plt.xscale('log')\n",
    "#plt.xlim(9, 1E5)\n",
    "plt.xlabel('Frequency (Hz)', fontsize = 16)\n",
    "plt.xticks(fontsize = 12)\n",
    "plt.ylabel(r'APSD (counts$^{2}$/Hz)', fontsize = 16)\n",
    "plt.yticks(fontsize = 12)\n",
    "plt.grid()\n",
    "plt.savefig('PYTHON_average_APSD_286ppm_nat_boron.png')\n",
    "plt.show()"
   ]
  },
  {
   "cell_type": "code",
   "execution_count": null,
   "metadata": {},
   "outputs": [],
   "source": []
  }
 ],
 "metadata": {
  "kernelspec": {
   "display_name": "Python 3",
   "language": "python",
   "name": "python3"
  },
  "language_info": {
   "codemirror_mode": {
    "name": "ipython",
    "version": 3
   },
   "file_extension": ".py",
   "mimetype": "text/x-python",
   "name": "python",
   "nbconvert_exporter": "python",
   "pygments_lexer": "ipython3",
   "version": "3.7.6"
  }
 },
 "nbformat": 4,
 "nbformat_minor": 4
}
